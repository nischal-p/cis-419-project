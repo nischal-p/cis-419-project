{
 "cells": [
  {
   "cell_type": "markdown",
   "metadata": {
    "colab_type": "text",
    "id": "view-in-github"
   },
   "source": [
    "<a href=\"https://colab.research.google.com/github/nischal-p/cis-419-project/blob/main/Mario_RL_DDQN.ipynb\" target=\"_parent\"><img src=\"https://colab.research.google.com/assets/colab-badge.svg\" alt=\"Open In Colab\"/></a>"
   ]
  },
  {
   "cell_type": "code",
   "execution_count": 1,
   "metadata": {
    "colab": {
     "base_uri": "https://localhost:8080/"
    },
    "id": "TGdfgYQHsGVj",
    "outputId": "b289b223-c2ce-43b3-938c-7e3edee9133c"
   },
   "outputs": [
    {
     "name": "stdout",
     "output_type": "stream",
     "text": [
      "Loaded plugins: dkms-build-requires, priorities, update-motd, upgrade-helper,\n",
      "              : versionlock\n",
      "amzn-main                                                | 2.1 kB     00:00     \n",
      "amzn-updates                                             | 3.8 kB     00:00     \n",
      "Package gcc72-7.2.1-2.59.amzn1.x86_64 already installed and latest version\n",
      "Resolving Dependencies\n",
      "--> Running transaction check\n",
      "---> Package gcc72-c++.x86_64 0:7.2.1-2.59.amzn1 will be installed\n",
      "--> Finished Dependency Resolution\n",
      "\n",
      "Dependencies Resolved\n",
      "\n",
      "================================================================================\n",
      " Package          Arch          Version                  Repository        Size\n",
      "================================================================================\n",
      "Installing:\n",
      " gcc72-c++        x86_64        7.2.1-2.59.amzn1         amzn-main         15 M\n",
      "\n",
      "Transaction Summary\n",
      "================================================================================\n",
      "Install  1 Package\n",
      "\n",
      "Total download size: 15 M\n",
      "Installed size: 40 M\n",
      "Downloading packages:\n",
      "gcc72-c++-7.2.1-2.59.amzn1.x86_64.rpm                      |  15 MB   00:00     \n",
      "Running transaction check\n",
      "Running transaction test\n",
      "Transaction test succeeded\n",
      "Running transaction\n",
      "Warning: RPMDB altered outside of yum.\n",
      "  Installing : gcc72-c++-7.2.1-2.59.amzn1.x86_64                            1/1 \n",
      "  Verifying  : gcc72-c++-7.2.1-2.59.amzn1.x86_64                            1/1 \n",
      "\n",
      "Installed:\n",
      "  gcc72-c++.x86_64 0:7.2.1-2.59.amzn1                                           \n",
      "\n",
      "Complete!\n"
     ]
    }
   ],
   "source": [
    "!sudo yum install -y gcc72 gcc72-c++"
   ]
  },
  {
   "cell_type": "code",
   "execution_count": 2,
   "metadata": {},
   "outputs": [
    {
     "name": "stdout",
     "output_type": "stream",
     "text": [
      "Collecting gym-super-mario-bros==7.3.0\n",
      "  Downloading gym_super_mario_bros-7.3.0-py2.py3-none-any.whl (198 kB)\n",
      "\u001b[K     |████████████████████████████████| 198 kB 30.9 MB/s eta 0:00:01\n",
      "\u001b[?25hCollecting nes-py>=8.0.0\n",
      "  Downloading nes_py-8.1.8.tar.gz (76 kB)\n",
      "\u001b[K     |████████████████████████████████| 76 kB 12.3 MB/s  eta 0:00:01\n",
      "\u001b[?25hCollecting gym>=0.17.2\n",
      "  Downloading gym-0.21.0.tar.gz (1.5 MB)\n",
      "\u001b[K     |████████████████████████████████| 1.5 MB 127.4 MB/s eta 0:00:01\n",
      "\u001b[?25hRequirement already satisfied: numpy>=1.18.5 in /home/ec2-user/anaconda3/envs/pytorch_latest_p36/lib/python3.6/site-packages (from nes-py>=8.0.0->gym-super-mario-bros==7.3.0) (1.19.5)\n",
      "Collecting pyglet<=1.5.11,>=1.4.0\n",
      "  Downloading pyglet-1.5.11-py3-none-any.whl (1.1 MB)\n",
      "\u001b[K     |████████████████████████████████| 1.1 MB 118.4 MB/s eta 0:00:01\n",
      "\u001b[?25hRequirement already satisfied: tqdm>=4.48.2 in /home/ec2-user/anaconda3/envs/pytorch_latest_p36/lib/python3.6/site-packages (from nes-py>=8.0.0->gym-super-mario-bros==7.3.0) (4.62.3)\n",
      "Requirement already satisfied: cloudpickle>=1.2.0 in /home/ec2-user/anaconda3/envs/pytorch_latest_p36/lib/python3.6/site-packages (from gym>=0.17.2->nes-py>=8.0.0->gym-super-mario-bros==7.3.0) (1.6.0)\n",
      "Requirement already satisfied: importlib_metadata>=4.8.1 in /home/ec2-user/anaconda3/envs/pytorch_latest_p36/lib/python3.6/site-packages (from gym>=0.17.2->nes-py>=8.0.0->gym-super-mario-bros==7.3.0) (4.8.2)\n",
      "Requirement already satisfied: zipp>=0.5 in /home/ec2-user/anaconda3/envs/pytorch_latest_p36/lib/python3.6/site-packages (from importlib_metadata>=4.8.1->gym>=0.17.2->nes-py>=8.0.0->gym-super-mario-bros==7.3.0) (3.6.0)\n",
      "Requirement already satisfied: typing-extensions>=3.6.4 in /home/ec2-user/anaconda3/envs/pytorch_latest_p36/lib/python3.6/site-packages (from importlib_metadata>=4.8.1->gym>=0.17.2->nes-py>=8.0.0->gym-super-mario-bros==7.3.0) (3.10.0.2)\n",
      "Building wheels for collected packages: nes-py, gym\n",
      "  Building wheel for nes-py (setup.py) ... \u001b[?25ldone\n",
      "\u001b[?25h  Created wheel for nes-py: filename=nes_py-8.1.8-cp36-cp36m-linux_x86_64.whl size=49341 sha256=f9989952a5137cc22f8ca127765e1cc8f687134e65095f788cabf6b2b34002c6\n",
      "  Stored in directory: /home/ec2-user/.cache/pip/wheels/53/2c/fc/13b8a81dd7af319446e9b1a2cb4546d0c7b48bd1827f36362d\n",
      "  Building wheel for gym (setup.py) ... \u001b[?25ldone\n",
      "\u001b[?25h  Created wheel for gym: filename=gym-0.21.0-py3-none-any.whl size=1616824 sha256=77fedd29ba8dfff252253c3bcbc3d5bec3902b45e82d8f9417fbd85f398735f2\n",
      "  Stored in directory: /home/ec2-user/.cache/pip/wheels/f8/c7/3c/7ad569d779e750220d17a44f731411f0ad79b7b123a2e3a02e\n",
      "Successfully built nes-py gym\n",
      "Installing collected packages: pyglet, gym, nes-py, gym-super-mario-bros\n",
      "Successfully installed gym-0.21.0 gym-super-mario-bros-7.3.0 nes-py-8.1.8 pyglet-1.5.11\n",
      "\u001b[33mWARNING: You are using pip version 21.2.4; however, version 21.3.1 is available.\n",
      "You should consider upgrading via the '/home/ec2-user/anaconda3/envs/pytorch_latest_p36/bin/python -m pip install --upgrade pip' command.\u001b[0m\n",
      "Loaded plugins: dkms-build-requires, priorities, update-motd, upgrade-helper,\n",
      "              : versionlock\n",
      "No package \u001b[1mfceux\u001b[m available.\n",
      "Error: Nothing to do\n"
     ]
    }
   ],
   "source": [
    "%matplotlib inline\n",
    "!pip install gym-super-mario-bros==7.3.0\n",
    "!sudo yum install -y fceux"
   ]
  },
  {
   "cell_type": "code",
   "execution_count": 3,
   "metadata": {},
   "outputs": [
    {
     "name": "stdout",
     "output_type": "stream",
     "text": [
      "g++ (GCC) 7.2.1 20170915 (Red Hat 7.2.1-2)\n",
      "Copyright (C) 2017 Free Software Foundation, Inc.\n",
      "This is free software; see the source for copying conditions.  There is NO\n",
      "warranty; not even for MERCHANTABILITY or FITNESS FOR A PARTICULAR PURPOSE.\n",
      "\n"
     ]
    }
   ],
   "source": [
    "!g++ --version"
   ]
  },
  {
   "cell_type": "markdown",
   "metadata": {
    "id": "pdSoXEIisGVl"
   },
   "source": [
    "\n",
    "Train a Mario-playing RL Agent\n",
    "================\n",
    "\n",
    "\n"
   ]
  },
  {
   "cell_type": "code",
   "execution_count": 4,
   "metadata": {
    "id": "z7mPUpuJsGVm"
   },
   "outputs": [],
   "source": [
    "# !pip install gym-super-mario-bros==7.3.0\n",
    "\n",
    "import torch\n",
    "from torch import nn\n",
    "from torchvision import transforms as T\n",
    "from PIL import Image\n",
    "import numpy as np\n",
    "from pathlib import Path\n",
    "from collections import deque\n",
    "import random, datetime, os, copy\n",
    "\n",
    "# Gym is an OpenAI toolkit for RL\n",
    "import gym\n",
    "from gym.spaces import Box\n",
    "from gym.wrappers import FrameStack\n",
    "\n",
    "# NES Emulator for OpenAI Gym\n",
    "from nes_py.wrappers import JoypadSpace\n",
    "\n",
    "# Super Mario environment for OpenAI Gym\n",
    "import gym_super_mario_bros"
   ]
  },
  {
   "cell_type": "markdown",
   "metadata": {
    "id": "a825Ax5esGVn"
   },
   "source": [
    "RL Definitions\n",
    "\"\"\"\"\"\"\"\"\"\"\"\"\"\"\"\"\"\"\n",
    "\n",
    "**Environment** The world that an agent interacts with and learns from.\n",
    "\n",
    "**Action** $a$ : How the Agent responds to the Environment. The\n",
    "set of all possible Actions is called *action-space*.\n",
    "\n",
    "**State** $s$ : The current characteristic of the Environment. The\n",
    "set of all possible States the Environment can be in is called\n",
    "*state-space*.\n",
    "\n",
    "**Reward** $r$ : Reward is the key feedback from Environment to\n",
    "Agent. It is what drives the Agent to learn and to change its future\n",
    "action. An aggregation of rewards over multiple time steps is called\n",
    "**Return**.\n",
    "\n",
    "**Optimal Action-Value function** $Q^*(s,a)$ : Gives the expected\n",
    "return if you start in state $s$, take an arbitrary action\n",
    "$a$, and then for each future time step take the action that\n",
    "maximizes returns. $Q$ can be said to stand for the “quality” of\n",
    "the action in a state. We try to approximate this function.\n",
    "\n",
    "\n"
   ]
  },
  {
   "cell_type": "markdown",
   "metadata": {
    "id": "4PDvwjA1sGVn"
   },
   "source": [
    "Environment\n",
    "\"\"\"\"\"\"\"\"\"\"\"\"\"\"\"\"\n",
    "\n",
    "Initialize Environment\n",
    "------------------------\n",
    "\n",
    "In Mario, the environment consists of tubes, mushrooms and other\n",
    "components.\n",
    "\n",
    "When Mario makes an action, the environment responds with the changed\n",
    "(next) state, reward and other info.\n",
    "\n",
    "\n"
   ]
  },
  {
   "cell_type": "code",
   "execution_count": 5,
   "metadata": {
    "colab": {
     "base_uri": "https://localhost:8080/"
    },
    "id": "Br86juUqsGVo",
    "outputId": "241c6d4b-2bee-4b32-c03f-3883deb67be7"
   },
   "outputs": [
    {
     "name": "stdout",
     "output_type": "stream",
     "text": [
      "(240, 256, 3),\n",
      " 0,\n",
      " False,\n",
      " {'coins': 0, 'flag_get': False, 'life': 2, 'score': 0, 'stage': 1, 'status': 'small', 'time': 400, 'world': 1, 'x_pos': 40, 'x_pos_screen': 40, 'y_pos': 79}\n"
     ]
    }
   ],
   "source": [
    "# Initialize Super Mario environment\n",
    "env = gym_super_mario_bros.make(\"SuperMarioBros-1-1-v0\")\n",
    "\n",
    "# Limit the action-space to\n",
    "#   0. walk right\n",
    "#   1. jump right\n",
    "env = JoypadSpace(env, [[\"right\"], [\"right\", \"A\"]])\n",
    "\n",
    "env.reset()\n",
    "next_state, reward, done, info = env.step(action=0)\n",
    "print(f\"{next_state.shape},\\n {reward},\\n {done},\\n {info}\")"
   ]
  },
  {
   "cell_type": "markdown",
   "metadata": {
    "id": "Xgnc0rw5sGVo"
   },
   "source": [
    "Preprocess Environment\n",
    "------------------------\n",
    "\n",
    "Environment data is returned to the agent in ``next_state``. As you saw\n",
    "above, each state is represented by a ``[3, 240, 256]`` size array.\n",
    "Often that is more information than our agent needs; for instance,\n",
    "Mario’s actions do not depend on the color of the pipes or the sky!\n",
    "\n",
    "We use **Wrappers** to preprocess environment data before sending it to\n",
    "the agent.\n",
    "\n",
    "``GrayScaleObservation`` is a common wrapper to transform an RGB image\n",
    "to grayscale; doing so reduces the size of the state representation\n",
    "without losing useful information. Now the size of each state:\n",
    "``[1, 240, 256]``\n",
    "\n",
    "``ResizeObservation`` downsamples each observation into a square image.\n",
    "New size: ``[1, 84, 84]``\n",
    "\n",
    "``SkipFrame`` is a custom wrapper that inherits from ``gym.Wrapper`` and\n",
    "implements the ``step()`` function. Because consecutive frames don’t\n",
    "vary much, we can skip n-intermediate frames without losing much\n",
    "information. The n-th frame aggregates rewards accumulated over each\n",
    "skipped frame.\n",
    "\n",
    "``FrameStack`` is a wrapper that allows us to squash consecutive frames\n",
    "of the environment into a single observation point to feed to our\n",
    "learning model. This way, we can identify if Mario was landing or\n",
    "jumping based on the direction of his movement in the previous several\n",
    "frames.\n",
    "\n",
    "\n"
   ]
  },
  {
   "cell_type": "code",
   "execution_count": 6,
   "metadata": {
    "id": "wpwgIkKZsGVp"
   },
   "outputs": [],
   "source": [
    "class SkipFrame(gym.Wrapper):\n",
    "    def __init__(self, env, skip):\n",
    "        \"\"\"Return only every `skip`-th frame\"\"\"\n",
    "        super().__init__(env)\n",
    "        self._skip = skip\n",
    "\n",
    "    def step(self, action):\n",
    "        \"\"\"Repeat action, and sum reward\"\"\"\n",
    "        total_reward = 0.0\n",
    "        done = False\n",
    "        for i in range(self._skip):\n",
    "            # Accumulate reward and repeat the same action\n",
    "            obs, reward, done, info = self.env.step(action)\n",
    "            total_reward += reward\n",
    "            if done:\n",
    "                break\n",
    "        return obs, total_reward, done, info\n",
    "\n",
    "\n",
    "class GrayScaleObservation(gym.ObservationWrapper):\n",
    "    def __init__(self, env):\n",
    "        super().__init__(env)\n",
    "        obs_shape = self.observation_space.shape[:2]\n",
    "        self.observation_space = Box(low=0, high=255, shape=obs_shape, dtype=np.uint8)\n",
    "\n",
    "    def permute_orientation(self, observation):\n",
    "        # permute [H, W, C] array to [C, H, W] tensor\n",
    "        observation = np.transpose(observation, (2, 0, 1))\n",
    "        observation = torch.tensor(observation.copy(), dtype=torch.float)\n",
    "        return observation\n",
    "\n",
    "    def observation(self, observation):\n",
    "        observation = self.permute_orientation(observation)\n",
    "        transform = T.Grayscale()\n",
    "        observation = transform(observation)\n",
    "        return observation\n",
    "\n",
    "\n",
    "class ResizeObservation(gym.ObservationWrapper):\n",
    "    def __init__(self, env, shape):\n",
    "        super().__init__(env)\n",
    "        if isinstance(shape, int):\n",
    "            self.shape = (shape, shape)\n",
    "        else:\n",
    "            self.shape = tuple(shape)\n",
    "\n",
    "        obs_shape = self.shape + self.observation_space.shape[2:]\n",
    "        self.observation_space = Box(low=0, high=255, shape=obs_shape, dtype=np.uint8)\n",
    "\n",
    "    def observation(self, observation):\n",
    "        transforms = T.Compose(\n",
    "            [T.Resize(self.shape), T.Normalize(0, 255)]\n",
    "        )\n",
    "        observation = transforms(observation).squeeze(0)\n",
    "        return observation\n",
    "\n",
    "\n",
    "# Apply Wrappers to environment\n",
    "env = SkipFrame(env, skip=4)\n",
    "env = GrayScaleObservation(env)\n",
    "env = ResizeObservation(env, shape=84)\n",
    "env = FrameStack(env, num_stack=4)"
   ]
  },
  {
   "cell_type": "markdown",
   "metadata": {
    "id": "E3AJQcbxsGVp"
   },
   "source": [
    "After applying the above wrappers to the environment, the final wrapped\n",
    "state consists of 4 gray-scaled consecutive frames stacked together, as\n",
    "shown above in the image on the left. Each time Mario makes an action,\n",
    "the environment responds with a state of this structure. The structure\n",
    "is represented by a 3-D array of size ``[4, 84, 84]``.\n",
    "\n",
    ".. figure:: /_static/img/mario_env.png\n",
    "   :alt: picture\n",
    "\n",
    "\n",
    "\n"
   ]
  },
  {
   "cell_type": "markdown",
   "metadata": {
    "id": "IVNBvcThsGVq"
   },
   "source": [
    "Agent\n",
    "\"\"\"\"\"\"\"\"\"\n",
    "\n",
    "We create a class ``Mario`` to represent our agent in the game. Mario\n",
    "should be able to:\n",
    "\n",
    "-  **Act** according to the optimal action policy based on the current\n",
    "   state (of the environment).\n",
    "\n",
    "-  **Remember** experiences. Experience = (current state, current\n",
    "   action, reward, next state). Mario *caches* and later *recalls* his\n",
    "   experiences to update his action policy.\n",
    "\n",
    "-  **Learn** a better action policy over time\n",
    "\n",
    "\n"
   ]
  },
  {
   "cell_type": "code",
   "execution_count": 7,
   "metadata": {
    "id": "WBKUMiwosGVq"
   },
   "outputs": [],
   "source": [
    "class Mario:\n",
    "    def __init__():\n",
    "        pass\n",
    "\n",
    "    def act(self, state):\n",
    "        \"\"\"Given a state, choose an epsilon-greedy action\"\"\"\n",
    "        pass\n",
    "\n",
    "    def cache(self, experience):\n",
    "        \"\"\"Add the experience to memory\"\"\"\n",
    "        pass\n",
    "\n",
    "    def recall(self):\n",
    "        \"\"\"Sample experiences from memory\"\"\"\n",
    "        pass\n",
    "\n",
    "    def learn(self):\n",
    "        \"\"\"Update online action value (Q) function with a batch of experiences\"\"\"\n",
    "        pass"
   ]
  },
  {
   "cell_type": "markdown",
   "metadata": {
    "id": "19358hPPsGVq"
   },
   "source": [
    "In the following sections, we will populate Mario’s parameters and\n",
    "define his functions.\n",
    "\n",
    "\n"
   ]
  },
  {
   "cell_type": "markdown",
   "metadata": {
    "id": "jttz0FPqsGVq"
   },
   "source": [
    "Act\n",
    "--------------\n",
    "\n",
    "For any given state, an agent can choose to do the most optimal action\n",
    "(**exploit**) or a random action (**explore**).\n",
    "\n",
    "Mario randomly explores with a chance of ``self.exploration_rate``; when\n",
    "he chooses to exploit, he relies on ``MarioNet`` (implemented in\n",
    "``Learn`` section) to provide the most optimal action.\n",
    "\n",
    "\n"
   ]
  },
  {
   "cell_type": "code",
   "execution_count": 8,
   "metadata": {
    "id": "LmN2SXcisGVr"
   },
   "outputs": [],
   "source": [
    "class Mario:\n",
    "    def __init__(self, state_dim, action_dim, save_dir):\n",
    "        self.state_dim = state_dim\n",
    "        self.action_dim = action_dim\n",
    "        self.save_dir = save_dir\n",
    "\n",
    "        self.use_cuda = torch.cuda.is_available()\n",
    "\n",
    "        # Mario's DNN to predict the most optimal action - we implement this in the Learn section\n",
    "        self.net = MarioNet(self.state_dim, self.action_dim).float()\n",
    "        if self.use_cuda:\n",
    "            self.net = self.net.to(device=\"cuda\")\n",
    "\n",
    "        self.exploration_rate = 1\n",
    "        self.exploration_rate_decay = 0.99999975\n",
    "        self.exploration_rate_min = 0.1\n",
    "        self.curr_step = 0\n",
    "\n",
    "        self.save_every = 5e5  # no. of experiences between saving Mario Net\n",
    "\n",
    "    def act(self, state):\n",
    "        \"\"\"\n",
    "    Given a state, choose an epsilon-greedy action and update value of step.\n",
    "\n",
    "    Inputs:\n",
    "    state(LazyFrame): A single observation of the current state, dimension is (state_dim)\n",
    "    Outputs:\n",
    "    action_idx (int): An integer representing which action Mario will perform\n",
    "    \"\"\"\n",
    "        # EXPLORE\n",
    "        if np.random.rand() < self.exploration_rate:\n",
    "            action_idx = np.random.randint(self.action_dim)\n",
    "\n",
    "        # EXPLOIT\n",
    "        else:\n",
    "            state = state.__array__()\n",
    "            if self.use_cuda:\n",
    "                state = torch.tensor(state).cuda()\n",
    "            else:\n",
    "                state = torch.tensor(state)\n",
    "            state = state.unsqueeze(0)\n",
    "            action_values = self.net(state, model=\"online\")\n",
    "            action_idx = torch.argmax(action_values, axis=1).item()\n",
    "\n",
    "        # decrease exploration_rate\n",
    "        self.exploration_rate *= self.exploration_rate_decay\n",
    "        self.exploration_rate = max(self.exploration_rate_min, self.exploration_rate)\n",
    "\n",
    "        # increment step\n",
    "        self.curr_step += 1\n",
    "        return action_idx"
   ]
  },
  {
   "cell_type": "markdown",
   "metadata": {
    "id": "1htdTgGysGVr"
   },
   "source": [
    "Cache and Recall\n",
    "----------------------\n",
    "\n",
    "These two functions serve as Mario’s “memory” process.\n",
    "\n",
    "``cache()``: Each time Mario performs an action, he stores the\n",
    "``experience`` to his memory. His experience includes the current\n",
    "*state*, *action* performed, *reward* from the action, the *next state*,\n",
    "and whether the game is *done*.\n",
    "\n",
    "``recall()``: Mario randomly samples a batch of experiences from his\n",
    "memory, and uses that to learn the game.\n",
    "\n",
    "\n"
   ]
  },
  {
   "cell_type": "code",
   "execution_count": 9,
   "metadata": {
    "id": "dgw7gHzVsGVr"
   },
   "outputs": [],
   "source": [
    "\n",
    "class Mario(Mario):  # subclassing for continuity\n",
    "    def __init__(self, state_dim, action_dim, save_dir):\n",
    "        super().__init__(state_dim, action_dim, save_dir)\n",
    "        self.memory = deque(maxlen=50000)\n",
    "        self.batch_size = 32\n",
    "\n",
    "    def cache(self, state, next_state, action, reward, done):\n",
    "        \"\"\"\n",
    "        Store the experience to self.memory (replay buffer)\n",
    "\n",
    "        Inputs:\n",
    "        state (LazyFrame),\n",
    "        next_state (LazyFrame),\n",
    "        action (int),\n",
    "        reward (float),\n",
    "        done(bool))\n",
    "        \"\"\"\n",
    "        state = state.__array__()\n",
    "        next_state = next_state.__array__()\n",
    "\n",
    "        if self.use_cuda:\n",
    "            state = torch.tensor(state).cuda()\n",
    "            next_state = torch.tensor(next_state).cuda()\n",
    "            action = torch.tensor([action]).cuda()\n",
    "            reward = torch.tensor([reward]).cuda()\n",
    "            done = torch.tensor([done]).cuda()\n",
    "        else:\n",
    "            state = torch.tensor(state)\n",
    "            next_state = torch.tensor(next_state)\n",
    "            action = torch.tensor([action])\n",
    "            reward = torch.tensor([reward])\n",
    "            done = torch.tensor([done])\n",
    "\n",
    "        self.memory.append((state, next_state, action, reward, done,))\n",
    "\n",
    "    def recall(self):\n",
    "        \"\"\"\n",
    "        Retrieve a batch of experiences from memory\n",
    "        \"\"\"\n",
    "        batch = random.sample(self.memory, self.batch_size)\n",
    "        state, next_state, action, reward, done = map(torch.stack, zip(*batch))\n",
    "        return state, next_state, action.squeeze(), reward.squeeze(), done.squeeze()"
   ]
  },
  {
   "cell_type": "markdown",
   "metadata": {
    "id": "qn1j1lZnsGVs"
   },
   "source": [
    "Learn\n",
    "--------------\n",
    "\n",
    "Mario uses the `DDQN algorithm <https://arxiv.org/pdf/1509.06461>`__\n",
    "under the hood. DDQN uses two ConvNets - $Q_{online}$ and\n",
    "$Q_{target}$ - that independently approximate the optimal\n",
    "action-value function.\n",
    "\n",
    "In our implementation, we share feature generator ``features`` across\n",
    "$Q_{online}$ and $Q_{target}$, but maintain separate FC\n",
    "classifiers for each. $\\theta_{target}$ (the parameters of\n",
    "$Q_{target}$) is frozen to prevent updation by backprop. Instead,\n",
    "it is periodically synced with $\\theta_{online}$ (more on this\n",
    "later).\n",
    "\n",
    "Neural Network\n",
    "~~~~~~~~~~~~~~~~~~\n",
    "\n"
   ]
  },
  {
   "cell_type": "code",
   "execution_count": 10,
   "metadata": {
    "id": "EccVDRL0sGVs"
   },
   "outputs": [],
   "source": [
    "class MarioNet(nn.Module):\n",
    "    \"\"\"mini cnn structure\n",
    "  input -> (conv2d + relu) x 3 -> flatten -> (dense + relu) x 2 -> output\n",
    "  \"\"\"\n",
    "\n",
    "    def __init__(self, input_dim, output_dim):\n",
    "        super().__init__()\n",
    "        c, h, w = input_dim\n",
    "\n",
    "        if h != 84:\n",
    "            raise ValueError(f\"Expecting input height: 84, got: {h}\")\n",
    "        if w != 84:\n",
    "            raise ValueError(f\"Expecting input width: 84, got: {w}\")\n",
    "\n",
    "        self.online = nn.Sequential(\n",
    "            nn.Conv2d(in_channels=c, out_channels=32, kernel_size=8, stride=4),\n",
    "            nn.ReLU(),\n",
    "            nn.Conv2d(in_channels=32, out_channels=64, kernel_size=4, stride=2),\n",
    "            nn.ReLU(),\n",
    "            nn.Conv2d(in_channels=64, out_channels=64, kernel_size=3, stride=1),\n",
    "            nn.ReLU(),\n",
    "            nn.Flatten(),\n",
    "            nn.Linear(3136, 512),\n",
    "            nn.ReLU(),\n",
    "            nn.Linear(512, output_dim),\n",
    "        )\n",
    "\n",
    "        self.target = copy.deepcopy(self.online)\n",
    "\n",
    "        # Q_target parameters are frozen.\n",
    "        for p in self.target.parameters():\n",
    "            p.requires_grad = False\n",
    "\n",
    "    def forward(self, input, model):\n",
    "        if model == \"online\":\n",
    "            return self.online(input)\n",
    "        elif model == \"target\":\n",
    "            return self.target(input)"
   ]
  },
  {
   "cell_type": "markdown",
   "metadata": {
    "id": "gbZrqed6sGVs"
   },
   "source": [
    "TD Estimate & TD Target\n",
    "~~~~~~~~~~~~~~~~~~~~~~~~~~\n",
    "\n",
    "Two values are involved in learning:\n",
    "\n",
    "**TD Estimate** - the predicted optimal $Q^*$ for a given state\n",
    "$s$\n",
    "\n",
    "\\begin{align}{TD}_e = Q_{online}^*(s,a)\\end{align}\n",
    "\n",
    "**TD Target** - aggregation of current reward and the estimated\n",
    "$Q^*$ in the next state $s'$\n",
    "\n",
    "\\begin{align}a' = argmax_{a} Q_{online}(s', a)\\end{align}\n",
    "\n",
    "\\begin{align}{TD}_t = r + \\gamma Q_{target}^*(s',a')\\end{align}\n",
    "\n",
    "Because we don’t know what next action $a'$ will be, we use the\n",
    "action $a'$ maximizes $Q_{online}$ in the next state\n",
    "$s'$.\n",
    "\n",
    "Notice we use the\n",
    "`@torch.no_grad() <https://pytorch.org/docs/stable/generated/torch.no_grad.html#no-grad>`__\n",
    "decorator on ``td_target()`` to disable gradient calculations here\n",
    "(because we don’t need to backpropagate on $\\theta_{target}$).\n",
    "\n",
    "\n"
   ]
  },
  {
   "cell_type": "code",
   "execution_count": 11,
   "metadata": {
    "id": "5d-YiFmbsGVs"
   },
   "outputs": [],
   "source": [
    "class Mario(Mario):\n",
    "    def __init__(self, state_dim, action_dim, save_dir):\n",
    "        super().__init__(state_dim, action_dim, save_dir)\n",
    "        self.gamma = 0.9\n",
    "\n",
    "    def td_estimate(self, state, action):\n",
    "        current_Q = self.net(state, model=\"online\")[\n",
    "            np.arange(0, self.batch_size), action\n",
    "        ]  # Q_online(s,a)\n",
    "        return current_Q\n",
    "\n",
    "    @torch.no_grad()\n",
    "    def td_target(self, reward, next_state, done):\n",
    "        next_state_Q = self.net(next_state, model=\"online\")\n",
    "        best_action = torch.argmax(next_state_Q, axis=1)\n",
    "        next_Q = self.net(next_state, model=\"target\")[\n",
    "            np.arange(0, self.batch_size), best_action\n",
    "        ]\n",
    "        return (reward + (1 - done.float()) * self.gamma * next_Q).float()"
   ]
  },
  {
   "cell_type": "markdown",
   "metadata": {
    "id": "VGi_LmFNsGVs"
   },
   "source": [
    "Updating the model\n",
    "~~~~~~~~~~~~~~~~~~~~~~\n",
    "\n",
    "As Mario samples inputs from his replay buffer, we compute $TD_t$\n",
    "and $TD_e$ and backpropagate this loss down $Q_{online}$ to\n",
    "update its parameters $\\theta_{online}$ ($\\alpha$ is the\n",
    "learning rate ``lr`` passed to the ``optimizer``)\n",
    "\n",
    "\\begin{align}\\theta_{online} \\leftarrow \\theta_{online} + \\alpha \\nabla(TD_e - TD_t)\\end{align}\n",
    "\n",
    "$\\theta_{target}$ does not update through backpropagation.\n",
    "Instead, we periodically copy $\\theta_{online}$ to\n",
    "$\\theta_{target}$\n",
    "\n",
    "\\begin{align}\\theta_{target} \\leftarrow \\theta_{online}\\end{align}\n",
    "\n",
    "\n",
    "\n"
   ]
  },
  {
   "cell_type": "code",
   "execution_count": 12,
   "metadata": {
    "id": "MCV26s-5sGVs"
   },
   "outputs": [],
   "source": [
    "class Mario(Mario):\n",
    "    def __init__(self, state_dim, action_dim, save_dir):\n",
    "        super().__init__(state_dim, action_dim, save_dir)\n",
    "        self.optimizer = torch.optim.Adam(self.net.parameters(), lr=0.00025)\n",
    "        self.loss_fn = torch.nn.SmoothL1Loss()\n",
    "\n",
    "    def update_Q_online(self, td_estimate, td_target):\n",
    "        loss = self.loss_fn(td_estimate, td_target)\n",
    "        self.optimizer.zero_grad()\n",
    "        loss.backward()\n",
    "        self.optimizer.step()\n",
    "        return loss.item()\n",
    "\n",
    "    def sync_Q_target(self):\n",
    "        self.net.target.load_state_dict(self.net.online.state_dict())"
   ]
  },
  {
   "cell_type": "markdown",
   "metadata": {
    "id": "0BanDh8zsGVt"
   },
   "source": [
    "Save checkpoint\n",
    "~~~~~~~~~~~~~~~~~~\n",
    "\n",
    "\n"
   ]
  },
  {
   "cell_type": "code",
   "execution_count": 13,
   "metadata": {
    "id": "G0AxJEePsGVt"
   },
   "outputs": [],
   "source": [
    "class Mario(Mario):\n",
    "    def save(self, num_episode):\n",
    "        save_path = (\n",
    "            self.save_dir / f\"mario_ddqn_model{num_episode}.chkpt\"\n",
    "        )\n",
    "        torch.save(\n",
    "            dict(model=self.net.state_dict(), exploration_rate=self.exploration_rate),\n",
    "            save_path,\n",
    "        )\n",
    "        print(f\"MarioNet saved to {save_path} at step {self.curr_step}\")"
   ]
  },
  {
   "cell_type": "markdown",
   "metadata": {
    "id": "dyHN343isGVt"
   },
   "source": [
    "Putting it all together\n",
    "~~~~~~~~~~~~~~~~~~~~~~~~~~\n",
    "\n",
    "\n"
   ]
  },
  {
   "cell_type": "code",
   "execution_count": 14,
   "metadata": {
    "id": "baUVBaAOsGVt"
   },
   "outputs": [],
   "source": [
    "class Mario(Mario):\n",
    "    def __init__(self, state_dim, action_dim, save_dir):\n",
    "        super().__init__(state_dim, action_dim, save_dir)\n",
    "        self.burnin = 1e4  # min. experiences before training\n",
    "        self.learn_every = 3  # no. of experiences between updates to Q_online\n",
    "        self.sync_every = 1e4  # no. of experiences between Q_target & Q_online sync\n",
    "\n",
    "    def learn(self):\n",
    "        if self.curr_step % self.sync_every == 0:\n",
    "            self.sync_Q_target()\n",
    "\n",
    "        # if self.curr_step % self.save_every == 0:\n",
    "        #     self.save()\n",
    "\n",
    "        if self.curr_step < self.burnin:\n",
    "            return None, None\n",
    "\n",
    "        if self.curr_step % self.learn_every != 0:\n",
    "            return None, None\n",
    "\n",
    "        # Sample from memory\n",
    "        state, next_state, action, reward, done = self.recall()\n",
    "\n",
    "        # Get TD Estimate\n",
    "        td_est = self.td_estimate(state, action)\n",
    "\n",
    "        # Get TD Target\n",
    "        td_tgt = self.td_target(reward, next_state, done)\n",
    "\n",
    "        # Backpropagate loss through Q_online\n",
    "        loss = self.update_Q_online(td_est, td_tgt)\n",
    "\n",
    "        return (td_est.mean().item(), loss)"
   ]
  },
  {
   "cell_type": "markdown",
   "metadata": {
    "id": "EZdbS_yysGVt"
   },
   "source": [
    "Logging\n",
    "--------------\n",
    "\n",
    "\n"
   ]
  },
  {
   "cell_type": "code",
   "execution_count": 15,
   "metadata": {
    "id": "Jfb-YIzEsGVt"
   },
   "outputs": [],
   "source": [
    "import numpy as np\n",
    "import time, datetime\n",
    "import matplotlib.pyplot as plt\n",
    "\n",
    "\n",
    "class MetricLogger:\n",
    "    def __init__(self, save_dir):\n",
    "        self.save_log = save_dir / \"log\"\n",
    "        with open(self.save_log, \"w\") as f:\n",
    "            f.write(\n",
    "                f\"{'Episode':>8}{'Step':>8}{'Epsilon':>10}{'MeanReward':>15}\"\n",
    "                f\"{'MeanLength':>15}{'MeanLoss':>15}{'MeanQValue':>15}\"\n",
    "                f\"{'TimeDelta':>15}{'Time':>20}\\n\"\n",
    "            )\n",
    "        self.ep_rewards_plot = save_dir / \"reward_plot.jpg\"\n",
    "        self.ep_lengths_plot = save_dir / \"length_plot.jpg\"\n",
    "        self.ep_avg_losses_plot = save_dir / \"loss_plot.jpg\"\n",
    "        self.ep_avg_qs_plot = save_dir / \"q_plot.jpg\"\n",
    "\n",
    "        # History metrics\n",
    "        self.ep_rewards = []\n",
    "        self.ep_lengths = []\n",
    "        self.ep_avg_losses = []\n",
    "        self.ep_avg_qs = []\n",
    "\n",
    "        # Moving averages, added for every call to record()\n",
    "        self.moving_avg_ep_rewards = []\n",
    "        self.moving_avg_ep_lengths = []\n",
    "        self.moving_avg_ep_avg_losses = []\n",
    "        self.moving_avg_ep_avg_qs = []\n",
    "\n",
    "        # Current episode metric\n",
    "        self.init_episode()\n",
    "\n",
    "        # Timing\n",
    "        self.record_time = time.time()\n",
    "\n",
    "    def log_step(self, reward, loss, q):\n",
    "        self.curr_ep_reward += reward\n",
    "        self.curr_ep_length += 1\n",
    "        if loss:\n",
    "            self.curr_ep_loss += loss\n",
    "            self.curr_ep_q += q\n",
    "            self.curr_ep_loss_length += 1\n",
    "\n",
    "    def log_episode(self):\n",
    "        \"Mark end of episode\"\n",
    "        self.ep_rewards.append(self.curr_ep_reward)\n",
    "        self.ep_lengths.append(self.curr_ep_length)\n",
    "        if self.curr_ep_loss_length == 0:\n",
    "            ep_avg_loss = 0\n",
    "            ep_avg_q = 0\n",
    "        else:\n",
    "            ep_avg_loss = np.round(self.curr_ep_loss / self.curr_ep_loss_length, 5)\n",
    "            ep_avg_q = np.round(self.curr_ep_q / self.curr_ep_loss_length, 5)\n",
    "        self.ep_avg_losses.append(ep_avg_loss)\n",
    "        self.ep_avg_qs.append(ep_avg_q)\n",
    "\n",
    "        self.init_episode()\n",
    "\n",
    "    def init_episode(self):\n",
    "        self.curr_ep_reward = 0.0\n",
    "        self.curr_ep_length = 0\n",
    "        self.curr_ep_loss = 0.0\n",
    "        self.curr_ep_q = 0.0\n",
    "        self.curr_ep_loss_length = 0\n",
    "\n",
    "    def record(self, episode, epsilon, step):\n",
    "        mean_ep_reward = np.round(np.mean(self.ep_rewards[-100:]), 3)\n",
    "        mean_ep_length = np.round(np.mean(self.ep_lengths[-100:]), 3)\n",
    "        mean_ep_loss = np.round(np.mean(self.ep_avg_losses[-100:]), 3)\n",
    "        mean_ep_q = np.round(np.mean(self.ep_avg_qs[-100:]), 3)\n",
    "        self.moving_avg_ep_rewards.append(mean_ep_reward)\n",
    "        self.moving_avg_ep_lengths.append(mean_ep_length)\n",
    "        self.moving_avg_ep_avg_losses.append(mean_ep_loss)\n",
    "        self.moving_avg_ep_avg_qs.append(mean_ep_q)\n",
    "\n",
    "        last_record_time = self.record_time\n",
    "        self.record_time = time.time()\n",
    "        time_since_last_record = np.round(self.record_time - last_record_time, 3)\n",
    "\n",
    "        print(\n",
    "            f\"Episode {episode} - \"\n",
    "            f\"Step {step} - \"\n",
    "            f\"Epsilon {epsilon} - \"\n",
    "            f\"Mean Reward {mean_ep_reward} - \"\n",
    "            f\"Mean Length {mean_ep_length} - \"\n",
    "            f\"Mean Loss {mean_ep_loss} - \"\n",
    "            f\"Mean Q Value {mean_ep_q} - \"\n",
    "            f\"Time Delta {time_since_last_record} - \"\n",
    "            f\"Time {datetime.datetime.now().strftime('%Y-%m-%dT%H:%M:%S')}\"\n",
    "        )\n",
    "\n",
    "        with open(self.save_log, \"a\") as f:\n",
    "            f.write(\n",
    "                f\"{episode:8d}{step:8d}{epsilon:10.3f}\"\n",
    "                f\"{mean_ep_reward:15.3f}{mean_ep_length:15.3f}{mean_ep_loss:15.3f}{mean_ep_q:15.3f}\"\n",
    "                f\"{time_since_last_record:15.3f}\"\n",
    "                f\"{datetime.datetime.now().strftime('%Y-%m-%dT%H:%M:%S'):>20}\\n\"\n",
    "            )\n",
    "\n",
    "        for metric in [\"ep_rewards\", \"ep_lengths\", \"ep_avg_losses\", \"ep_avg_qs\"]:\n",
    "            plt.plot(getattr(self, f\"moving_avg_{metric}\"))\n",
    "            plt.savefig(getattr(self, f\"{metric}_plot\"))\n",
    "            plt.clf()"
   ]
  },
  {
   "cell_type": "code",
   "execution_count": null,
   "metadata": {},
   "outputs": [],
   "source": []
  },
  {
   "cell_type": "markdown",
   "metadata": {
    "id": "X1M1wms2sGVt"
   },
   "source": [
    "Let’s play!\n",
    "\"\"\"\"\"\"\"\"\"\"\"\"\"\"\"\n",
    "\n",
    "In this example we run the training loop for 10 episodes, but for Mario to truly learn the ways of\n",
    "his world, we suggest running the loop for at least 40,000 episodes!\n",
    "\n",
    "\n"
   ]
  },
  {
   "cell_type": "markdown",
   "metadata": {
    "id": "-Tg2UKOrSs-a"
   },
   "source": [
    "https://davidrpugh.github.io/stochastic-expatriate-descent/openai/binder/google-colab/2020/04/16/remote-rendering-gym-envs.html\n",
    "\n",
    "Visualizng the Rendering online"
   ]
  },
  {
   "cell_type": "code",
   "execution_count": 16,
   "metadata": {},
   "outputs": [
    {
     "name": "stdout",
     "output_type": "stream",
     "text": [
      "Loaded plugins: dkms-build-requires, priorities, update-motd, upgrade-helper,\n",
      "              : versionlock\n",
      "============================== N/S matched: xvfb ===============================\n",
      "xorg-x11-server-Xvfb.x86_64 : A X Windows System virtual framebuffer X server.\n",
      "\n",
      "============================ N/S matched: x11-utils ============================\n",
      "xorg-x11-utils.x86_64 : X.Org X11 X client utilities\n",
      "\n",
      "  Name and summary matches mostly, use \"search all\" for everything.\n"
     ]
    }
   ],
   "source": [
    "%%bash\n",
    "\n",
    "yum search xvfb x11-utils"
   ]
  },
  {
   "cell_type": "code",
   "execution_count": 17,
   "metadata": {
    "colab": {
     "base_uri": "https://localhost:8080/"
    },
    "id": "KMu2nuCLQNPP",
    "outputId": "8f62c7b0-e2d8-48b5-d7cc-a175a759b6c4"
   },
   "outputs": [
    {
     "name": "stdout",
     "output_type": "stream",
     "text": [
      "Loaded plugins: dkms-build-requires, priorities, update-motd, upgrade-helper,\n",
      "              : versionlock\n",
      "Resolving Dependencies\n",
      "--> Running transaction check\n",
      "---> Package xorg-x11-server-Xvfb.x86_64 0:1.17.4-18.44.amzn1 will be installed\n",
      "--> Processing Dependency: xorg-x11-server-common >= 1.17.4-18.44.amzn1 for package: xorg-x11-server-Xvfb-1.17.4-18.44.amzn1.x86_64\n",
      "--> Processing Dependency: xorg-x11-xauth for package: xorg-x11-server-Xvfb-1.17.4-18.44.amzn1.x86_64\n",
      "--> Processing Dependency: libunwind.so.8()(64bit) for package: xorg-x11-server-Xvfb-1.17.4-18.44.amzn1.x86_64\n",
      "--> Processing Dependency: libXdmcp.so.6()(64bit) for package: xorg-x11-server-Xvfb-1.17.4-18.44.amzn1.x86_64\n",
      "---> Package xorg-x11-utils.x86_64 0:7.5-6.7.amzn1 will be installed\n",
      "--> Processing Dependency: libdmx.so.1()(64bit) for package: xorg-x11-utils-7.5-6.7.amzn1.x86_64\n",
      "--> Processing Dependency: libXxf86misc.so.1()(64bit) for package: xorg-x11-utils-7.5-6.7.amzn1.x86_64\n",
      "--> Processing Dependency: libXxf86dga.so.1()(64bit) for package: xorg-x11-utils-7.5-6.7.amzn1.x86_64\n",
      "--> Processing Dependency: libXv.so.1()(64bit) for package: xorg-x11-utils-7.5-6.7.amzn1.x86_64\n",
      "--> Processing Dependency: libXinerama.so.1()(64bit) for package: xorg-x11-utils-7.5-6.7.amzn1.x86_64\n",
      "--> Running transaction check\n",
      "---> Package libXdmcp.x86_64 0:1.1.1-3.8.amzn1 will be installed\n",
      "---> Package libXinerama.x86_64 0:1.1.2-2.7.amzn1 will be installed\n",
      "---> Package libXv.x86_64 0:1.0.9-2.1.8.amzn1 will be installed\n",
      "---> Package libXxf86dga.x86_64 0:1.1.4-2.1.8.amzn1 will be installed\n",
      "---> Package libXxf86misc.x86_64 0:1.0.3-4.6.amzn1 will be installed\n",
      "---> Package libdmx.x86_64 0:1.1.3-3.7.amzn1 will be installed\n",
      "---> Package libunwind.x86_64 0:1.1-10.8.amzn1 will be installed\n",
      "---> Package xorg-x11-server-common.x86_64 0:1.17.4-18.44.amzn1 will be installed\n",
      "--> Processing Dependency: xkeyboard-config for package: xorg-x11-server-common-1.17.4-18.44.amzn1.x86_64\n",
      "--> Processing Dependency: xkbcomp for package: xorg-x11-server-common-1.17.4-18.44.amzn1.x86_64\n",
      "---> Package xorg-x11-xauth.x86_64 1:1.0.2-7.1.4.amzn1 will be installed\n",
      "--> Processing Dependency: libXmuu.so.1()(64bit) for package: 1:xorg-x11-xauth-1.0.2-7.1.4.amzn1.x86_64\n",
      "--> Running transaction check\n",
      "---> Package libXmu.x86_64 0:1.1.1-2.8.amzn1 will be installed\n",
      "--> Processing Dependency: libXt.so.6()(64bit) for package: libXmu-1.1.1-2.8.amzn1.x86_64\n",
      "---> Package xkeyboard-config.noarch 0:2.6-6.6.amzn1 will be installed\n",
      "---> Package xorg-x11-xkb-utils.x86_64 0:7.7-4.8.amzn1 will be installed\n",
      "--> Processing Dependency: libxkbfile.so.1()(64bit) for package: xorg-x11-xkb-utils-7.7-4.8.amzn1.x86_64\n",
      "--> Running transaction check\n",
      "---> Package libXt.x86_64 0:1.1.4-6.1.9.amzn1 will be installed\n",
      "---> Package libxkbfile.x86_64 0:1.0.6-1.1.6.amzn1 will be installed\n",
      "--> Finished Dependency Resolution\n",
      "\n",
      "Dependencies Resolved\n",
      "\n",
      "================================================================================\n",
      " Package                  Arch     Version                 Repository      Size\n",
      "================================================================================\n",
      "Installing:\n",
      " xorg-x11-server-Xvfb     x86_64   1.17.4-18.44.amzn1      amzn-updates   891 k\n",
      " xorg-x11-utils           x86_64   7.5-6.7.amzn1           amzn-main      106 k\n",
      "Installing for dependencies:\n",
      " libXdmcp                 x86_64   1.1.1-3.8.amzn1         amzn-main       32 k\n",
      " libXinerama              x86_64   1.1.2-2.7.amzn1         amzn-main       20 k\n",
      " libXmu                   x86_64   1.1.1-2.8.amzn1         amzn-main       75 k\n",
      " libXt                    x86_64   1.1.4-6.1.9.amzn1       amzn-main      185 k\n",
      " libXv                    x86_64   1.0.9-2.1.8.amzn1       amzn-main       17 k\n",
      " libXxf86dga              x86_64   1.1.4-2.1.8.amzn1       amzn-main       19 k\n",
      " libXxf86misc             x86_64   1.0.3-4.6.amzn1         amzn-main       18 k\n",
      " libdmx                   x86_64   1.1.3-3.7.amzn1         amzn-main       15 k\n",
      " libunwind                x86_64   1.1-10.8.amzn1          amzn-main       72 k\n",
      " libxkbfile               x86_64   1.0.6-1.1.6.amzn1       amzn-main       78 k\n",
      " xkeyboard-config         noarch   2.6-6.6.amzn1           amzn-main      1.1 M\n",
      " xorg-x11-server-common   x86_64   1.17.4-18.44.amzn1      amzn-updates    57 k\n",
      " xorg-x11-xauth           x86_64   1:1.0.2-7.1.4.amzn1     amzn-main       36 k\n",
      " xorg-x11-xkb-utils       x86_64   7.7-4.8.amzn1           amzn-main       97 k\n",
      "\n",
      "Transaction Summary\n",
      "================================================================================\n",
      "Install  2 Packages (+14 Dependent packages)\n",
      "\n",
      "Total download size: 2.8 M\n",
      "Installed size: 8.1 M\n",
      "Downloading packages:\n",
      "--------------------------------------------------------------------------------\n",
      "Total                                               11 MB/s | 2.8 MB  00:00     \n",
      "Running transaction check\n",
      "Running transaction test\n",
      "Transaction test succeeded\n",
      "Running transaction\n",
      "  Installing : libXxf86dga-1.1.4-2.1.8.amzn1.x86_64                        1/16 \n",
      "  Installing : libXinerama-1.1.2-2.7.amzn1.x86_64                          2/16 \n",
      "  Installing : libdmx-1.1.3-3.7.amzn1.x86_64                               3/16 \n",
      "  Installing : libXxf86misc-1.0.3-4.6.amzn1.x86_64                         4/16 \n",
      "  Installing : libunwind-1.1-10.8.amzn1.x86_64                             5/16 \n",
      "  Installing : libXdmcp-1.1.1-3.8.amzn1.x86_64                             6/16 \n",
      "  Installing : xkeyboard-config-2.6-6.6.amzn1.noarch                       7/16 \n",
      "  Installing : libXt-1.1.4-6.1.9.amzn1.x86_64                              8/16 \n",
      "  Installing : libXmu-1.1.1-2.8.amzn1.x86_64                               9/16 \n",
      "  Installing : 1:xorg-x11-xauth-1.0.2-7.1.4.amzn1.x86_64                  10/16 \n",
      "  Installing : libXv-1.0.9-2.1.8.amzn1.x86_64                             11/16 \n",
      "  Installing : libxkbfile-1.0.6-1.1.6.amzn1.x86_64                        12/16 \n",
      "  Installing : xorg-x11-xkb-utils-7.7-4.8.amzn1.x86_64                    13/16 \n",
      "  Installing : xorg-x11-server-common-1.17.4-18.44.amzn1.x86_64           14/16 \n",
      "  Installing : xorg-x11-server-Xvfb-1.17.4-18.44.amzn1.x86_64             15/16 \n",
      "  Installing : xorg-x11-utils-7.5-6.7.amzn1.x86_64                        16/16 \n",
      "  Verifying  : libxkbfile-1.0.6-1.1.6.amzn1.x86_64                         1/16 \n",
      "  Verifying  : 1:xorg-x11-xauth-1.0.2-7.1.4.amzn1.x86_64                   2/16 \n",
      "  Verifying  : libXv-1.0.9-2.1.8.amzn1.x86_64                              3/16 \n",
      "  Verifying  : libXt-1.1.4-6.1.9.amzn1.x86_64                              4/16 \n",
      "  Verifying  : xorg-x11-xkb-utils-7.7-4.8.amzn1.x86_64                     5/16 \n",
      "  Verifying  : xorg-x11-server-Xvfb-1.17.4-18.44.amzn1.x86_64              6/16 \n",
      "  Verifying  : xkeyboard-config-2.6-6.6.amzn1.noarch                       7/16 \n",
      "  Verifying  : libXdmcp-1.1.1-3.8.amzn1.x86_64                             8/16 \n",
      "  Verifying  : xorg-x11-server-common-1.17.4-18.44.amzn1.x86_64            9/16 \n",
      "  Verifying  : libunwind-1.1-10.8.amzn1.x86_64                            10/16 \n",
      "  Verifying  : libXmu-1.1.1-2.8.amzn1.x86_64                              11/16 \n",
      "  Verifying  : xorg-x11-utils-7.5-6.7.amzn1.x86_64                        12/16 \n",
      "  Verifying  : libXxf86misc-1.0.3-4.6.amzn1.x86_64                        13/16 \n",
      "  Verifying  : libdmx-1.1.3-3.7.amzn1.x86_64                              14/16 \n",
      "  Verifying  : libXinerama-1.1.2-2.7.amzn1.x86_64                         15/16 \n",
      "  Verifying  : libXxf86dga-1.1.4-2.1.8.amzn1.x86_64                       16/16 \n",
      "\n",
      "Installed:\n",
      "  xorg-x11-server-Xvfb.x86_64 0:1.17.4-18.44.amzn1                              \n",
      "  xorg-x11-utils.x86_64 0:7.5-6.7.amzn1                                         \n",
      "\n",
      "Dependency Installed:\n",
      "  libXdmcp.x86_64 0:1.1.1-3.8.amzn1                                             \n",
      "  libXinerama.x86_64 0:1.1.2-2.7.amzn1                                          \n",
      "  libXmu.x86_64 0:1.1.1-2.8.amzn1                                               \n",
      "  libXt.x86_64 0:1.1.4-6.1.9.amzn1                                              \n",
      "  libXv.x86_64 0:1.0.9-2.1.8.amzn1                                              \n",
      "  libXxf86dga.x86_64 0:1.1.4-2.1.8.amzn1                                        \n",
      "  libXxf86misc.x86_64 0:1.0.3-4.6.amzn1                                         \n",
      "  libdmx.x86_64 0:1.1.3-3.7.amzn1                                               \n",
      "  libunwind.x86_64 0:1.1-10.8.amzn1                                             \n",
      "  libxkbfile.x86_64 0:1.0.6-1.1.6.amzn1                                         \n",
      "  xkeyboard-config.noarch 0:2.6-6.6.amzn1                                       \n",
      "  xorg-x11-server-common.x86_64 0:1.17.4-18.44.amzn1                            \n",
      "  xorg-x11-xauth.x86_64 1:1.0.2-7.1.4.amzn1                                     \n",
      "  xorg-x11-xkb-utils.x86_64 0:7.7-4.8.amzn1                                     \n",
      "\n",
      "Complete!\n",
      "Collecting gym[box2d]==0.17.*\n",
      "  Downloading gym-0.17.3.tar.gz (1.6 MB)\n",
      "Collecting pyvirtualdisplay==0.2.*\n",
      "  Downloading PyVirtualDisplay-0.2.5-py2.py3-none-any.whl (13 kB)\n",
      "Collecting PyOpenGL==3.1.*\n",
      "  Downloading PyOpenGL-3.1.5-py3-none-any.whl (2.4 MB)\n",
      "Collecting PyOpenGL-accelerate==3.1.*\n",
      "  Downloading PyOpenGL-accelerate-3.1.5.tar.gz (538 kB)\n",
      "Requirement already satisfied: scipy in /home/ec2-user/anaconda3/envs/pytorch_latest_p36/lib/python3.6/site-packages (from gym[box2d]==0.17.*) (1.5.3)\n",
      "Requirement already satisfied: numpy>=1.10.4 in /home/ec2-user/anaconda3/envs/pytorch_latest_p36/lib/python3.6/site-packages (from gym[box2d]==0.17.*) (1.19.5)\n",
      "Collecting pyglet<=1.5.0,>=1.4.0\n",
      "  Downloading pyglet-1.5.0-py2.py3-none-any.whl (1.0 MB)\n",
      "Requirement already satisfied: cloudpickle<1.7.0,>=1.2.0 in /home/ec2-user/anaconda3/envs/pytorch_latest_p36/lib/python3.6/site-packages (from gym[box2d]==0.17.*) (1.6.0)\n",
      "Collecting box2d-py~=2.3.5\n",
      "  Downloading box2d_py-2.3.8-cp36-cp36m-manylinux1_x86_64.whl (448 kB)\n",
      "Collecting EasyProcess\n",
      "  Downloading EasyProcess-0.3-py2.py3-none-any.whl (7.9 kB)\n",
      "Requirement already satisfied: future in /home/ec2-user/anaconda3/envs/pytorch_latest_p36/lib/python3.6/site-packages (from pyglet<=1.5.0,>=1.4.0->gym[box2d]==0.17.*) (0.18.2)\n",
      "Building wheels for collected packages: PyOpenGL-accelerate, gym\n",
      "  Building wheel for PyOpenGL-accelerate (setup.py): started\n",
      "  Building wheel for PyOpenGL-accelerate (setup.py): finished with status 'done'\n",
      "  Created wheel for PyOpenGL-accelerate: filename=PyOpenGL_accelerate-3.1.5-cp36-cp36m-linux_x86_64.whl size=517192 sha256=ce4f6d86006a936fe864d28de7deae758758eecb479f788d0be072fad1e53c4e\n",
      "  Stored in directory: /home/ec2-user/.cache/pip/wheels/9c/56/14/2ba79876aab98932e150db14c912f1a7d67db8e6832ae672d1\n",
      "  Building wheel for gym (setup.py): started\n",
      "  Building wheel for gym (setup.py): finished with status 'done'\n",
      "  Created wheel for gym: filename=gym-0.17.3-py3-none-any.whl size=1654653 sha256=9d836a9b0749bbedb24002beeb946a952ec8e4155fce475d313f04f437588bf6\n",
      "  Stored in directory: /home/ec2-user/.cache/pip/wheels/95/b0/62/af38051b97354eab5b2ff9a5fb92f5015a480745568c91e0b0\n",
      "Successfully built PyOpenGL-accelerate gym\n",
      "Installing collected packages: pyglet, gym, EasyProcess, box2d-py, pyvirtualdisplay, PyOpenGL-accelerate, PyOpenGL\n",
      "  Attempting uninstall: pyglet\n",
      "    Found existing installation: pyglet 1.5.11\n",
      "    Uninstalling pyglet-1.5.11:\n",
      "      Successfully uninstalled pyglet-1.5.11\n",
      "  Attempting uninstall: gym\n",
      "    Found existing installation: gym 0.21.0\n",
      "    Uninstalling gym-0.21.0:\n",
      "      Successfully uninstalled gym-0.21.0\n",
      "Successfully installed EasyProcess-0.3 PyOpenGL-3.1.5 PyOpenGL-accelerate-3.1.5 box2d-py-2.3.8 gym-0.17.3 pyglet-1.5.0 pyvirtualdisplay-0.2.5\n"
     ]
    },
    {
     "name": "stderr",
     "output_type": "stream",
     "text": [
      "WARNING: You are using pip version 21.2.4; however, version 21.3.1 is available.\n",
      "You should consider upgrading via the '/home/ec2-user/anaconda3/envs/pytorch_latest_p36/bin/python -m pip install --upgrade pip' command.\n"
     ]
    }
   ],
   "source": [
    "%%bash\n",
    "\n",
    "# install required system dependencies\n",
    "sudo yum install -y xorg-x11-server-Xvfb.x86_64 xorg-x11-utils.x86_64\n",
    "\n",
    "# install required python dependencies (might need to install additional gym extras depending)\n",
    "pip install gym[box2d]==0.17.* pyvirtualdisplay==0.2.* PyOpenGL==3.1.* PyOpenGL-accelerate==3.1.*"
   ]
  },
  {
   "cell_type": "code",
   "execution_count": 18,
   "metadata": {
    "colab": {
     "base_uri": "https://localhost:8080/"
    },
    "id": "9KoyRWqaQjux",
    "outputId": "72d730d8-cd60-485c-d45f-6c4f645975b7"
   },
   "outputs": [
    {
     "name": "stdout",
     "output_type": "stream",
     "text": [
      ":1001\n"
     ]
    }
   ],
   "source": [
    "import pyvirtualdisplay\n",
    "import matplotlib.pyplot as plt\n",
    "from IPython import display\n",
    "\n",
    "_display = pyvirtualdisplay.Display(visible=False,  # use False with Xvfb\n",
    "                                    size=(1400, 900))\n",
    "_ = _display.start()\n",
    "\n",
    "!echo $DISPLAY"
   ]
  },
  {
   "cell_type": "code",
   "execution_count": 19,
   "metadata": {},
   "outputs": [
    {
     "data": {
      "text/plain": [
       "2"
      ]
     },
     "execution_count": 19,
     "metadata": {},
     "output_type": "execute_result"
    }
   ],
   "source": [
    "env.action_space.n"
   ]
  },
  {
   "cell_type": "code",
   "execution_count": null,
   "metadata": {
    "id": "cUcy_ZWkJi5f"
   },
   "outputs": [
    {
     "name": "stdout",
     "output_type": "stream",
     "text": [
      "Using CUDA: False\n",
      "\n"
     ]
    },
    {
     "name": "stderr",
     "output_type": "stream",
     "text": [
      "/home/ec2-user/anaconda3/envs/pytorch_latest_p36/lib/python3.6/site-packages/gym_super_mario_bros/smb_env.py:148: RuntimeWarning: overflow encountered in ubyte_scalars\n",
      "  return (self.ram[0x86] - self.ram[0x071c]) % 256\n"
     ]
    },
    {
     "name": "stdout",
     "output_type": "stream",
     "text": [
      "Episode 500 - Step 106368 - Epsilon 0.9737584506963078 - Mean Reward 652.54 - Mean Length 205.77 - Mean Loss 0.837 - Mean Q Value 19.069 - Time Delta 1707.782 - Time 2021-12-06T07:28:01\n",
      "Episode 1000 - Step 218237 - Epsilon 0.9469023967633019 - Mean Reward 699.33 - Mean Length 224.81 - Mean Loss 1.068 - Mean Q Value 25.461 - Time Delta 1907.446 - Time 2021-12-06T07:59:48\n",
      "Episode 1500 - Step 326292 - Epsilon 0.9216654164135676 - Mean Reward 656.52 - Mean Length 208.17 - Mean Loss 1.05 - Mean Q Value 27.207 - Time Delta 1851.303 - Time 2021-12-06T08:30:40\n"
     ]
    }
   ],
   "source": [
    "use_cuda = torch.cuda.is_available()\n",
    "print(f\"Using CUDA: {use_cuda}\")\n",
    "print()\n",
    "\n",
    "save_dir = Path(\"mario_ddqn_checkpoints\") / datetime.datetime.now().strftime(\"%Y-%m-%dT%H-%M-%S\")\n",
    "save_dir.mkdir(parents=True)\n",
    "\n",
    "mario = Mario(state_dim=(4, 84, 84), action_dim=env.action_space.n, save_dir=save_dir)\n",
    "\n",
    "logger = MetricLogger(save_dir)\n",
    "\n",
    "img = plt.imshow(env.render(mode='rgb_array'))\n",
    "episodes = 40000\n",
    "save_every = 5000\n",
    "log_every = 500\n",
    "\n",
    "# episodes = 10\n",
    "# save_every = 5\n",
    "# log_every = 2\n",
    "\n",
    "\n",
    "#fig = plt.figure()\n",
    "\n",
    "#ax = fig.subplots()\n",
    "for e in range(1, episodes + 1):\n",
    "\n",
    "    state = env.reset()\n",
    "    img = plt.imshow(env.render(mode='rgb_array'))\n",
    "    \n",
    "    # Play the game!\n",
    "    while True:\n",
    "\n",
    "        # Run agent on the state\n",
    "        action = mario.act(state)\n",
    "\n",
    "        #Added\n",
    "        img.set_data(env.render(mode='rgb_array'))\n",
    "        plt.axis('off')\n",
    "#         display.display(plt.gcf())\n",
    "#         display.clear_output(wait=True)\n",
    "\n",
    "        # Agent performs action\n",
    "        next_state, reward, done, info = env.step(action)\n",
    "\n",
    "        # Remember\n",
    "        mario.cache(state, next_state, action, reward, done)\n",
    "\n",
    "        # Learn\n",
    "        q, loss = mario.learn()\n",
    "\n",
    "        # Logging\n",
    "        logger.log_step(reward, loss, q)\n",
    "\n",
    "        # Update state\n",
    "        state = next_state\n",
    "\n",
    "        # Check if end of game\n",
    "        if done or info[\"flag_get\"]:\n",
    "            break\n",
    "\n",
    "    logger.log_episode()\n",
    "\n",
    "    if e % log_every == 0:\n",
    "        logger.record(episode=e, epsilon=mario.exploration_rate, step=mario.curr_step)\n",
    "        \n",
    "    if e % save_every == 0:\n",
    "        mario.save(e)"
   ]
  },
  {
   "cell_type": "markdown",
   "metadata": {
    "id": "ArYn-_VHsGVu"
   },
   "source": [
    "\n"
   ]
  },
  {
   "cell_type": "code",
   "execution_count": null,
   "metadata": {
    "id": "XT-STVamNSPI"
   },
   "outputs": [],
   "source": [
    "# load model and make a new thing\n",
    "intelligent_mario = Mario(state_dim=(4, 84, 84), action_dim=env.action_space.n, save_dir=save_dir)\n",
    "load_path = Path(\"mario_ddqn_checkpoints/2021-12-03T04-04-41/mario_ddqn_model10.chkpt\")\n",
    "checkpoint = torch.load(load_path)\n",
    "intelligent_mario.exploration_rate = checkpoint[\"exploration_rate\"]\n",
    "intelligent_mario.net.load_state_dict(checkpoint[\"model\"])\n",
    "\n",
    "state = env.reset()\n",
    "img = plt.imshow(env.render(mode='rgb_array'))\n",
    "\n",
    "# Play the game!\n",
    "while True:\n",
    "    # Run agent on the state\n",
    "    action = intelligent_mario.act(state)\n",
    "\n",
    "    #Added\n",
    "    img.set_data(env.render(mode='rgb_array'))\n",
    "    plt.axis('off')\n",
    "    display.display(plt.gcf())\n",
    "    display.clear_output(wait=True)\n",
    "\n",
    "    # Agent performs action\n",
    "    next_state, reward, done, info = env.step(action)\n",
    "\n",
    "    # Update state\n",
    "    state = next_state\n",
    "\n",
    "    # Check if end of game\n",
    "    if done or info[\"flag_get\"]:\n",
    "        break"
   ]
  },
  {
   "cell_type": "code",
   "execution_count": null,
   "metadata": {},
   "outputs": [],
   "source": []
  },
  {
   "cell_type": "code",
   "execution_count": null,
   "metadata": {},
   "outputs": [],
   "source": []
  }
 ],
 "metadata": {
  "accelerator": "GPU",
  "colab": {
   "include_colab_link": true,
   "name": "Mario_RL_DDQN.ipynb",
   "provenance": []
  },
  "kernelspec": {
   "display_name": "conda_pytorch_latest_p36",
   "language": "python",
   "name": "conda_pytorch_latest_p36"
  },
  "language_info": {
   "codemirror_mode": {
    "name": "ipython",
    "version": 3
   },
   "file_extension": ".py",
   "mimetype": "text/x-python",
   "name": "python",
   "nbconvert_exporter": "python",
   "pygments_lexer": "ipython3",
   "version": "3.6.13"
  }
 },
 "nbformat": 4,
 "nbformat_minor": 4
}
